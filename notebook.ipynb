{
 "cells": [
  {
   "cell_type": "code",
   "execution_count": 2,
   "id": "71d4e005",
   "metadata": {},
   "outputs": [
    {
     "name": "stdout",
     "output_type": "stream",
     "text": [
      "/Users/rj/Programs/mlx-demo/.venv/lib/python3.9/site-packages/urllib3/__init__.py:35: NotOpenSSLWarning: urllib3 v2 only supports OpenSSL 1.1.1+, currently the 'ssl' module is compiled with 'LibreSSL 2.8.3'. See: https://github.com/urllib3/urllib3/issues/3020\n",
      "  warnings.warn(\n",
      "Fetching 2 files: 100%|████████████████████████| 2/2 [00:00<00:00, 44384.17it/s]\n",
      "\n",
      "\u001b[94mModel:\u001b[0m prince-canuma/Kokoro-82M\n",
      "\u001b[94mText:\u001b[0m Hello, world\n",
      "\u001b[94mVoice:\u001b[0m af_heart\n",
      "\u001b[94mSpeed:\u001b[0m 1.0x\n",
      "\u001b[94mLanguage:\u001b[0m a\n",
      "==========\n",
      "\u001b[92mAudio generated successfully, saving to\u001b[0m audio!\n",
      "mx.metal.get_peak_memory is deprecated and will be removed in a future version. Use mx.get_peak_memory instead.\n",
      "==========\n",
      "Duration:              00:00:01.724\n",
      "Samples/sec:           0.8\n",
      "Prompt:                13 tokens, 10.6 tokens-per-sec\n",
      "Audio:                 1 samples, 0.8 samples-per-sec\n",
      "Real-time factor:      0.71x\n",
      "Processing time:       1.22s\n",
      "Peak memory usage:     1.27GB\n"
     ]
    }
   ],
   "source": [
    "!python -m mlx_audio.tts.generate --text \"Hello, world\" --play"
   ]
  }
 ],
 "metadata": {
  "kernelspec": {
   "display_name": ".venv",
   "language": "python",
   "name": "python3"
  },
  "language_info": {
   "codemirror_mode": {
    "name": "ipython",
    "version": 3
   },
   "file_extension": ".py",
   "mimetype": "text/x-python",
   "name": "python",
   "nbconvert_exporter": "python",
   "pygments_lexer": "ipython3",
   "version": "3.9.6"
  }
 },
 "nbformat": 4,
 "nbformat_minor": 5
}
